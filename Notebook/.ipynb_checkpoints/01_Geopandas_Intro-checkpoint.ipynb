{
 "cells": [
  {
   "cell_type": "markdown",
   "metadata": {},
   "source": [
    "Note: many sources were used for putting this Notebook together, often code and comments are included as-is from the original source. Sources are provided ahead of the content that was taken from them. Thank you to the creators of the many wonderful Geopandas resources already in existance!"
   ]
  },
  {
   "cell_type": "markdown",
   "metadata": {},
   "source": [
    "# Exploring Geopandas "
   ]
  },
  {
   "cell_type": "markdown",
   "metadata": {},
   "source": [
    "First we need to import our libraries"
   ]
  },
  {
   "cell_type": "code",
   "execution_count": null,
   "metadata": {
    "slideshow": {
     "slide_type": "slide"
    }
   },
   "outputs": [],
   "source": [
    "%matplotlib inline\n",
    "\n",
    "import matplotlib as mpl\n",
    "import matplotlib.pyplot as plt\n",
    "\n",
    "from shapely.geometry import Point\n",
    "\n",
    "import pandas as pd\n",
    "\n",
    "import geopandas as gpd\n",
    "from geopandas import GeoSeries, GeoDataFrame"
   ]
  },
  {
   "cell_type": "markdown",
   "metadata": {},
   "source": [
    "Let's start by making some simple graphs\n",
    "Source: https://github.com/geohackweek/tutorial_contents"
   ]
  },
  {
   "cell_type": "code",
   "execution_count": null,
   "metadata": {},
   "outputs": [],
   "source": [
    "# Let's check the version of the libraries we're using. Do yours look the same as mine?\n",
    "mpl.__version__, pd.__version__, gpd.__version__"
   ]
  },
  {
   "cell_type": "markdown",
   "metadata": {},
   "source": [
    "There are two main data structures in GeoPandas, a GeoSeries and a GeoDataFrame. These are subclasses the Pandas Series and DataFrame, respectively."
   ]
  },
  {
   "cell_type": "code",
   "execution_count": null,
   "metadata": {},
   "outputs": [],
   "source": [
    "# Let's create a GeoSeries, a vector where each entry in the vector is a set of shapes corresponding to one observation.\n",
    "# We'll use a list of shapely Point objects using the Point constructor (note: you can also make Lines and Polygons)\n",
    "gs = GeoSeries([Point(-120, 45), Point(-121.2, 46), Point(-122.9, 47.5)])\n",
    "gs"
   ]
  },
  {
   "cell_type": "code",
   "execution_count": null,
   "metadata": {},
   "outputs": [],
   "source": [
    "# Check the type and length of our GeoSeries\n",
    "type(gs), len(gs)"
   ]
  },
  {
   "cell_type": "code",
   "execution_count": null,
   "metadata": {},
   "outputs": [],
   "source": [
    "# Coordinates are of no use unless you know their reference system. Set the projection/crs to WGS 84, aka EPSG 4326\n",
    "gs.crs = {'init': 'epsg:4326'}"
   ]
  },
  {
   "cell_type": "code",
   "execution_count": null,
   "metadata": {},
   "outputs": [],
   "source": [
    "# We can plot our points with the plot function, with some customizations\n",
    "gs.plot(marker='*', color='red', markersize=100, figsize=(4, 4))\n",
    "\n",
    "# We limit the bounds to our area, but this will happen by default\n",
    "plt.xlim([-123, -119.8])\n",
    "plt.ylim([44.8, 47.7]);"
   ]
  },
  {
   "cell_type": "code",
   "execution_count": null,
   "metadata": {},
   "outputs": [],
   "source": [
    "# Now let's make a GeoDataFrame, a tabular data structure that contains a GeoSeries\n",
    "# Let's define a simple dictionary of lists, that we’ll use again later.\n",
    "data = {'name': ['House', 'Work', 'Pet Store'],\n",
    "        'lat': [45, 46, 47.5],\n",
    "        'lon': [-120, -121.2, -122.9]}\n",
    "print(data)"
   ]
  },
  {
   "cell_type": "code",
   "execution_count": null,
   "metadata": {},
   "outputs": [],
   "source": [
    "# Review of using dictionaries\n",
    "print(list(data.keys()))\n",
    "print(list(data.values()))\n",
    "print(data['name'])\n",
    "print(data['name'][1])"
   ]
  },
  {
   "cell_type": "code",
   "execution_count": null,
   "metadata": {},
   "outputs": [],
   "source": [
    "# Review the built-in zip method\n",
    "x = [1, 2, 3]\n",
    "y = [4, 5, 6]\n",
    "zipped = zip(x, y)\n",
    "list(zipped)"
   ]
  },
  {
   "cell_type": "code",
   "execution_count": null,
   "metadata": {},
   "outputs": [],
   "source": [
    "# Now we create a list of Point shapely objects out of the X & Y coordinate lists\n",
    "# Very important - the geometry is what makes the data spatial\n",
    "geo = [Point(xy) for xy in zip(data['lon'], data['lat'])]\n",
    "geo"
   ]
  },
  {
   "cell_type": "code",
   "execution_count": null,
   "metadata": {},
   "outputs": [],
   "source": [
    "type(geo)"
   ]
  },
  {
   "cell_type": "code",
   "execution_count": null,
   "metadata": {},
   "outputs": [],
   "source": [
    "# We’ll wrap up by creating a GeoSeries where we explicitly define the index values\n",
    "# The index is how it orients it in a row format\n",
    "gs = GeoSeries(geo, index=data['name'])\n",
    "gs"
   ]
  },
  {
   "cell_type": "code",
   "execution_count": null,
   "metadata": {},
   "outputs": [],
   "source": [
    "# Create a DataFrame using our GeoSeries\n",
    "df = pd.DataFrame(data)\n",
    "print(df)"
   ]
  },
  {
   "cell_type": "code",
   "execution_count": null,
   "metadata": {},
   "outputs": [],
   "source": [
    "# This turns our latitude and longitude \n",
    "print(type(data['lon']))\n",
    "data['lon']"
   ]
  },
  {
   "cell_type": "code",
   "execution_count": null,
   "metadata": {},
   "outputs": [],
   "source": [
    "# ...into a pandas DataFrame\n",
    "print(type(df))\n",
    "df['lon']"
   ]
  },
  {
   "cell_type": "code",
   "execution_count": null,
   "metadata": {},
   "outputs": [],
   "source": [
    "# Finally we use the DataFrame and the “list-of-shapely-Point-objects” approach to create a GeoDataFrame. \n",
    "gdf = GeoDataFrame(df, geometry=geo)"
   ]
  },
  {
   "cell_type": "code",
   "execution_count": null,
   "metadata": {},
   "outputs": [],
   "source": [
    "# There’s nothing new to visualize, but this time we’re using the plot method from a GeoDataFrame, not from a GeoSeries. \n",
    "gdf.plot(marker='*', color='green', markersize=50, figsize=(3, 3))"
   ]
  },
  {
   "cell_type": "markdown",
   "metadata": {},
   "source": [
    "# Using Geopandas Datasets\n",
    "Source: http://geopandas.org/mapping.html\n",
    "\n",
    "We have now made some point objects, but it's more fun to work with real data. Geopandas comes with some datasets that we can use!"
   ]
  },
  {
   "cell_type": "code",
   "execution_count": null,
   "metadata": {},
   "outputs": [],
   "source": [
    "# Load some sample data:\n",
    "world = gpd.read_file(gpd.datasets.get_path('naturalearth_lowres'))"
   ]
  },
  {
   "cell_type": "code",
   "execution_count": null,
   "metadata": {
    "scrolled": true,
    "slideshow": {
     "slide_type": "slide"
    }
   },
   "outputs": [],
   "source": [
    "# Let's examine the top few rows\n",
    "world.head()"
   ]
  },
  {
   "cell_type": "code",
   "execution_count": null,
   "metadata": {},
   "outputs": [],
   "source": [
    "# Plot it\n",
    "world.plot()"
   ]
  },
  {
   "cell_type": "code",
   "execution_count": null,
   "metadata": {},
   "outputs": [],
   "source": [
    "# Let's play with plotting the head and tail \n",
    "world.head(10).plot()\n",
    "# world.tail().plot()\n",
    "# world.tail(5).plot()"
   ]
  },
  {
   "cell_type": "code",
   "execution_count": null,
   "metadata": {},
   "outputs": [],
   "source": [
    "# Plot a few objects by sorting by a column\n",
    "world.sort_values('pop_est', ascending = False).head(3).plot()"
   ]
  },
  {
   "cell_type": "code",
   "execution_count": null,
   "metadata": {},
   "outputs": [],
   "source": [
    "# cities is another geopandas dataset. It includes points for the capitals of each country.\n",
    "cities = gpd.read_file(gpd.datasets.get_path('naturalearth_cities'))"
   ]
  },
  {
   "cell_type": "code",
   "execution_count": null,
   "metadata": {},
   "outputs": [],
   "source": [
    "# Again we'll look at the top few rows\n",
    "cities.head()"
   ]
  },
  {
   "cell_type": "code",
   "execution_count": null,
   "metadata": {},
   "outputs": [],
   "source": [
    "# Plot the cities using the default style\n",
    "cities.plot()"
   ]
  },
  {
   "cell_type": "code",
   "execution_count": null,
   "metadata": {},
   "outputs": [],
   "source": [
    "# Plot the cities using custom style\n",
    "cities.plot(marker='*', color='green', markersize=5)"
   ]
  },
  {
   "cell_type": "markdown",
   "metadata": {},
   "source": [
    "YOUR TURN #1: Play around with making the city dots different colors and sizes"
   ]
  },
  {
   "cell_type": "code",
   "execution_count": null,
   "metadata": {},
   "outputs": [],
   "source": [
    "# Your code here\n",
    "\n",
    "\n"
   ]
  },
  {
   "cell_type": "code",
   "execution_count": null,
   "metadata": {
    "slideshow": {
     "slide_type": "slide"
    }
   },
   "outputs": [],
   "source": [
    "# We can exclude Antarctica by name\n",
    "world = world[(world.pop_est>0) & (world.name!=\"Antarctica\") & (world.name!=\"Fr. S. Antarctic Lands\")]"
   ]
  },
  {
   "cell_type": "code",
   "execution_count": null,
   "metadata": {},
   "outputs": [],
   "source": [
    "world.plot()"
   ]
  },
  {
   "cell_type": "code",
   "execution_count": null,
   "metadata": {
    "slideshow": {
     "slide_type": "slide"
    }
   },
   "outputs": [],
   "source": [
    "# The data came with a gdp_md_est (estimated GDP) and a pop_est (estimated population) column, \n",
    "# so we can use this data to make a new column, gdp_per_cap (GDP per capita).\n",
    "# Create a new column named `gdp_per_cap` and use existing columns to calculate the GDP.\n",
    "world['gdp_per_cap'] = world.gdp_md_est / world.pop_est"
   ]
  },
  {
   "cell_type": "code",
   "execution_count": null,
   "metadata": {},
   "outputs": [],
   "source": [
    "# Let's take a look at the new column\n",
    "world.head()"
   ]
  },
  {
   "cell_type": "code",
   "execution_count": null,
   "metadata": {},
   "outputs": [],
   "source": [
    "# What are the 5 countries with the highest GDP?\n",
    "world.sort_values('gdp_per_cap', ascending = False).head()"
   ]
  },
  {
   "cell_type": "code",
   "execution_count": null,
   "metadata": {
    "slideshow": {
     "slide_type": "slide"
    }
   },
   "outputs": [],
   "source": [
    "# We can plot the map, coloring our countries by their gdp_per_cap value, creating a choropleth map\n",
    "world.plot(column='gdp_per_cap')"
   ]
  },
  {
   "cell_type": "markdown",
   "metadata": {},
   "source": [
    "GeoPandas uses color schemes from [Color Brewer](http://colorbrewer2.org/#type=sequential&scheme=BuGn&n=3). Check it out!"
   ]
  },
  {
   "cell_type": "code",
   "execution_count": null,
   "metadata": {
    "slideshow": {
     "slide_type": "slide"
    }
   },
   "outputs": [],
   "source": [
    "# We can change the style using the cmap (short for `color map`) property\n",
    "world.plot(column='gdp_per_cap', cmap='Oranges')\n",
    "\n",
    "# Try setting the cmap property to YlGn"
   ]
  },
  {
   "cell_type": "markdown",
   "metadata": {},
   "source": [
    "See colormap options [here](https://matplotlib.org/users/colormaps.html)."
   ]
  },
  {
   "cell_type": "code",
   "execution_count": null,
   "metadata": {
    "slideshow": {
     "slide_type": "slide"
    }
   },
   "outputs": [],
   "source": [
    "# You can change the default classification scheme, note I also changed the cmap, for fun\n",
    "base = world.plot(column='gdp_per_cap', cmap='BuPu', scheme='quantiles')"
   ]
  },
  {
   "cell_type": "markdown",
   "metadata": {},
   "source": [
    "YOUR TURN #2: The scheme option can be set to 'equal_interval', 'quantiles', or 'fisher_jenks'. \n",
    "Try out each one. See the difference?\n",
    "\n",
    "More info on classification schemes [here](http://pysal.readthedocs.io/en/latest/library/esda/mapclassify.html)."
   ]
  },
  {
   "cell_type": "code",
   "execution_count": null,
   "metadata": {},
   "outputs": [],
   "source": [
    "# Your code here\n",
    "\n",
    "\n"
   ]
  },
  {
   "cell_type": "code",
   "execution_count": null,
   "metadata": {},
   "outputs": [],
   "source": [
    "# We can plot the cities on top of our new choropleth map\n",
    "\n",
    "# Create a variable to hold our choropleth map, call it base\n",
    "base = world.plot(column='gdp_per_cap', cmap='OrRd', scheme='quantiles')\n",
    "\n",
    "# Now when you plot the cities, set an ax property to the variable you just created\n",
    "cities.plot(ax=base, marker='o', color='black', markersize=5)\n",
    "\n",
    "# Now you will get them both on the same map"
   ]
  },
  {
   "cell_type": "markdown",
   "metadata": {},
   "source": [
    "Geopandas is geo-enabled [Pandas](https://pandas.pydata.org/), a Python data science library, so we have everything that comes with Pandas already!"
   ]
  },
  {
   "cell_type": "code",
   "execution_count": null,
   "metadata": {},
   "outputs": [],
   "source": [
    "# Make a plot of gdp_per_cap\n",
    "fig, ax = plt.subplots(figsize=(10,8))\n",
    "_ = ax.hist(world['gdp_per_cap'], bins=40)\n",
    "ax.set_title(\"\")"
   ]
  },
  {
   "cell_type": "code",
   "execution_count": null,
   "metadata": {},
   "outputs": [],
   "source": [
    "fig, ax = plt.subplots(figsize=(10,8))\n",
    "y = world.sort_values('gdp_per_cap', ascending = False)['gdp_per_cap'][:5]\n",
    "x = world.sort_values('gdp_per_cap', ascending = False)['name'][:5]\n",
    "ax.bar(x,y)"
   ]
  },
  {
   "cell_type": "markdown",
   "metadata": {},
   "source": [
    "# Managing Projections"
   ]
  },
  {
   "cell_type": "markdown",
   "metadata": {},
   "source": [
    "Source: http://geopandas.org/projections.html\n",
    "\n",
    "We saw before how we can set a projection. We can also check a projection and re-project.\n",
    "\n",
    "When you are doing spatial analysis all of your data MUST be in the same coordinate reference system!"
   ]
  },
  {
   "cell_type": "code",
   "execution_count": null,
   "metadata": {},
   "outputs": [],
   "source": [
    "# Check original projection/coordinate system or CRS\n",
    "world.crs"
   ]
  },
  {
   "cell_type": "code",
   "execution_count": null,
   "metadata": {},
   "outputs": [],
   "source": [
    "# It's WGS-84, a spherical coordinate system AKA 'epsg:4326'\n",
    "# It can't be shown on a flat surface but when you try typically gets projected into a Platte Carree projection\n",
    "# This the the CRS used by GPS/Satellites and GeoJSON\n",
    "base = world.plot()\n",
    "base.set_title(\"WGS84 (lat/lon)\")"
   ]
  },
  {
   "cell_type": "code",
   "execution_count": null,
   "metadata": {},
   "outputs": [],
   "source": [
    "# Set the projection to the Mercator projection (epsg=3395)\n",
    "world = world.to_crs(epsg=3395)\n",
    "base = world.plot()\n",
    "base.set_title(\"Mercator\")"
   ]
  },
  {
   "cell_type": "code",
   "execution_count": null,
   "metadata": {},
   "outputs": [],
   "source": [
    "# Set the projection to Polar Stereographic (epsg=3995)\n",
    "world = world.to_crs(epsg=3995)\n",
    "base = world.plot()\n",
    "base.set_title(\"Polar Stereographic\")"
   ]
  },
  {
   "cell_type": "markdown",
   "metadata": {},
   "source": [
    "Try re-running one of the cells above where you created a plot with just world, it will now be in Polar Stereographic!"
   ]
  },
  {
   "cell_type": "markdown",
   "metadata": {},
   "source": [
    "YOUR TURN #3: Make a basemap with the Mercator projection and add `cities` to it. Hint: you will have to change the crs of `cities`"
   ]
  },
  {
   "cell_type": "code",
   "execution_count": null,
   "metadata": {},
   "outputs": [],
   "source": [
    "# Your code here\n",
    "\n"
   ]
  },
  {
   "cell_type": "markdown",
   "metadata": {},
   "source": [
    "You might see some streaky lines through your Mercator projection map. This is an oddity!"
   ]
  }
 ],
 "metadata": {
  "kernelspec": {
   "display_name": "Python 3",
   "language": "python",
   "name": "python3"
  },
  "language_info": {
   "codemirror_mode": {
    "name": "ipython",
    "version": 3
   },
   "file_extension": ".py",
   "mimetype": "text/x-python",
   "name": "python",
   "nbconvert_exporter": "python",
   "pygments_lexer": "ipython3",
   "version": "3.6.5"
  }
 },
 "nbformat": 4,
 "nbformat_minor": 2
}
