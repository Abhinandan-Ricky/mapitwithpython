{
 "cells": [
  {
   "cell_type": "markdown",
   "metadata": {
    "slideshow": {
     "slide_type": "slide"
    }
   },
   "source": [
    "<h1><center>Map it with Python!</center></h1>\n",
    "\n",
    "<h3><center>Intro to GIS and Python's Mapping Modules</center></h3>\n",
    "\n",
    "<h5><center>Christy Heaton</center></h5>"
   ]
  },
  {
   "cell_type": "markdown",
   "metadata": {
    "slideshow": {
     "slide_type": "subslide"
    }
   },
   "source": [
    "<h1><center>About me</h1></center>"
   ]
  },
  {
   "cell_type": "markdown",
   "metadata": {
    "slideshow": {
     "slide_type": "subslide"
    }
   },
   "source": [
    "<center>  \n",
    "    \n",
    "![title](img/FS_bio.PNG) \n",
    "</center>"
   ]
  },
  {
   "cell_type": "markdown",
   "metadata": {
    "slideshow": {
     "slide_type": "subslide"
    }
   },
   "source": [
    "<center>  \n",
    "    \n",
    "![title](img/maptimeseattle_website.PNG) \n",
    "</center>\n",
    "\n",
    "Find us on [Meetup!](https://www.meetup.com/MaptimeSEA)"
   ]
  },
  {
   "cell_type": "markdown",
   "metadata": {
    "slideshow": {
     "slide_type": "subslide"
    }
   },
   "source": [
    "<center>\n",
    "    \n",
    "![title](img/psfblog_nbpy.PNG) \n",
    "</center>"
   ]
  },
  {
   "cell_type": "markdown",
   "metadata": {
    "slideshow": {
     "slide_type": "slide"
    }
   },
   "source": [
    "<h1><center>This presentation is running inside of a Jupyter Notebook</h1></center>"
   ]
  },
  {
   "cell_type": "code",
   "execution_count": null,
   "metadata": {
    "slideshow": {
     "slide_type": "fragment"
    }
   },
   "outputs": [],
   "source": [
    "import platform\n",
    "print('Using Python version', platform.python_version())"
   ]
  },
  {
   "cell_type": "markdown",
   "metadata": {
    "slideshow": {
     "slide_type": "slide"
    }
   },
   "source": [
    "## Let's talk about maps (3 mins)"
   ]
  },
  {
   "cell_type": "markdown",
   "metadata": {
    "slideshow": {
     "slide_type": "subslide"
    }
   },
   "source": [
    "<h2><center>Maps are Useful</center></h2>\n",
    "\n",
    "\n",
    "<center>\n",
    "    \n",
    "![title](img/wmata-metro-map.jpg) \n",
    "</center>"
   ]
  },
  {
   "cell_type": "markdown",
   "metadata": {
    "slideshow": {
     "slide_type": "skip"
    }
   },
   "source": [
    "https://washington-org.s3.amazonaws.com/s3fs-public/styles/editorial_wide/public/wmata-metro-map.jpg"
   ]
  },
  {
   "cell_type": "markdown",
   "metadata": {
    "slideshow": {
     "slide_type": "subslide"
    }
   },
   "source": [
    "<h1><center>Maps are Cool</center></h1>\n",
    "\n",
    "<center>\n",
    "     \n",
    "     \n",
    "![title](img/wa_post_eclipse.PNG) \n",
    "</center>\n",
    "\n",
    "Source: [Washington Post](https://www.washingtonpost.com/graphics/national/eclipse/?utm_term=.72bbec293d53)"
   ]
  },
  {
   "cell_type": "markdown",
   "metadata": {
    "slideshow": {
     "slide_type": "subslide"
    }
   },
   "source": [
    "<h2><center>Maps Have Been Around a While</center></h2>\n",
    "\n",
    "<center>\n",
    "    \n",
    "![title](img/00103052.jpg) \n",
    "</center>"
   ]
  },
  {
   "cell_type": "markdown",
   "metadata": {
    "slideshow": {
     "slide_type": "skip"
    }
   },
   "source": [
    "Historic Petaluma Map Source: https://www.davidrumsey.com/luna/servlet/detail/RUMSEY~8~1~1173~100052:Map-of-Petaluma-City--1877-"
   ]
  },
  {
   "cell_type": "markdown",
   "metadata": {
    "slideshow": {
     "slide_type": "subslide"
    }
   },
   "source": [
    "<h2><center>And Used for Spatial Analysis</center></h2>\n",
    "\n",
    "\n",
    "<center>\n",
    "    \n",
    "![title](img/financial-networks-and-cartography-2-638.jpg) \n",
    "</center>"
   ]
  },
  {
   "cell_type": "markdown",
   "metadata": {
    "slideshow": {
     "slide_type": "skip"
    }
   },
   "source": [
    "1854 London Cholera Map Source: https://image.slidesharecdn.com/130409-financial-networkscrc-130411091407-phpapp02/95/financial-networks-and-cartography-2-638.jpg?cb=1365671703\n"
   ]
  },
  {
   "cell_type": "markdown",
   "metadata": {
    "slideshow": {
     "slide_type": "slide"
    }
   },
   "source": [
    "<h1><center>Hasn't Everything Already Been Mapped? (5 mins)</h1></center>"
   ]
  },
  {
   "cell_type": "markdown",
   "metadata": {
    "slideshow": {
     "slide_type": "subslide"
    }
   },
   "source": [
    "<h1><center>Base Maps vs. Thematic Maps</h1></center>"
   ]
  },
  {
   "cell_type": "markdown",
   "metadata": {
    "slideshow": {
     "slide_type": "subslide"
    }
   },
   "source": [
    "## Base Maps"
   ]
  },
  {
   "cell_type": "markdown",
   "metadata": {
    "slideshow": {
     "slide_type": "fragment"
    }
   },
   "source": [
    "* Used as a reference"
   ]
  },
  {
   "cell_type": "markdown",
   "metadata": {
    "slideshow": {
     "slide_type": "fragment"
    }
   },
   "source": [
    "* They show you what's there, or a subset of what's there depending on scale"
   ]
  },
  {
   "cell_type": "markdown",
   "metadata": {
    "slideshow": {
     "slide_type": "subslide"
    }
   },
   "source": [
    "<center>\n",
    "    \n",
    "![title](img/nearmap_petaluma.PNG) \n",
    "</center>\n",
    "\n",
    "Source: [Nearmap](https://go.nearmap.com/)"
   ]
  },
  {
   "cell_type": "markdown",
   "metadata": {
    "slideshow": {
     "slide_type": "subslide"
    }
   },
   "source": [
    "<center>\n",
    "\n",
    "![title](img/stamen_maps.PNG) \n",
    "</center>\n",
    "\n",
    "Source: [Stamen](http://maps.stamen.com)"
   ]
  },
  {
   "cell_type": "markdown",
   "metadata": {
    "slideshow": {
     "slide_type": "subslide"
    }
   },
   "source": [
    "<center>\n",
    "\n",
    "![title](img/OSM_Edit.PNG) \n",
    "</center>\n",
    "\n",
    "Source: [OpenStreetMap](https://www.openstreetmap.org)"
   ]
  },
  {
   "cell_type": "markdown",
   "metadata": {
    "slideshow": {
     "slide_type": "subslide"
    }
   },
   "source": [
    "### Not all base maps have been made because:"
   ]
  },
  {
   "cell_type": "markdown",
   "metadata": {
    "slideshow": {
     "slide_type": "fragment"
    }
   },
   "source": [
    "* Changes in landscapes and infrastructure"
   ]
  },
  {
   "cell_type": "markdown",
   "metadata": {
    "slideshow": {
     "slide_type": "fragment"
    }
   },
   "source": [
    "* Different colors"
   ]
  },
  {
   "cell_type": "markdown",
   "metadata": {
    "slideshow": {
     "slide_type": "fragment"
    }
   },
   "source": [
    "* Different scales"
   ]
  },
  {
   "cell_type": "markdown",
   "metadata": {
    "slideshow": {
     "slide_type": "fragment"
    }
   },
   "source": [
    "* Different features"
   ]
  },
  {
   "cell_type": "markdown",
   "metadata": {
    "slideshow": {
     "slide_type": "subslide"
    }
   },
   "source": [
    "## Thematic Maps"
   ]
  },
  {
   "cell_type": "markdown",
   "metadata": {
    "slideshow": {
     "slide_type": "fragment"
    }
   },
   "source": [
    "* A map with a theme (usually shown on top of a basemap)"
   ]
  },
  {
   "cell_type": "markdown",
   "metadata": {
    "slideshow": {
     "slide_type": "fragment"
    }
   },
   "source": [
    "* The theme is _there_, but would not be seen from above"
   ]
  },
  {
   "cell_type": "markdown",
   "metadata": {
    "slideshow": {
     "slide_type": "subslide"
    }
   },
   "source": [
    "<center>\n",
    "\n",
    "![title](img/nasa_eclipse_map.jpg) \n",
    "</center>\n",
    "\n",
    "Source: [NASA](https://eclipse2017.nasa.gov/eclipse-maps)"
   ]
  },
  {
   "cell_type": "markdown",
   "metadata": {
    "slideshow": {
     "slide_type": "subslide"
    }
   },
   "source": [
    "<center>\n",
    "\n",
    "![title](img/Climate-destabilisation.jpg) \n",
    "</center>\n",
    "\n",
    "Source: [Geoawesomeness](https://i1.wp.com/geoawesomeness.com/wp-content/uploads/2016/10/Climate-destabilisation.jpg?fit=1303%2C766)"
   ]
  },
  {
   "cell_type": "markdown",
   "metadata": {
    "slideshow": {
     "slide_type": "subslide"
    }
   },
   "source": [
    "<center>\n",
    "\n",
    "![title](img/wind_map.PNG) \n",
    "</center>\n",
    "\n",
    "Source: [hint.fm](http://hint.fm/wind/)"
   ]
  },
  {
   "cell_type": "markdown",
   "metadata": {
    "slideshow": {
     "slide_type": "subslide"
    }
   },
   "source": [
    "## Non-Earth Maps"
   ]
  },
  {
   "cell_type": "markdown",
   "metadata": {
    "slideshow": {
     "slide_type": "subslide"
    }
   },
   "source": [
    "<center>\n",
    "\n",
    "![title](img/Hubble_image.PNG) \n",
    "</center>"
   ]
  },
  {
   "cell_type": "markdown",
   "metadata": {
    "slideshow": {
     "slide_type": "skip"
    }
   },
   "source": [
    "Source: Nasa (https://www.nasa.gov/image-feature/goddard/2018/hubbles-warped-view-of-the-universe)"
   ]
  },
  {
   "cell_type": "markdown",
   "metadata": {
    "slideshow": {
     "slide_type": "subslide"
    }
   },
   "source": [
    "<center>\n",
    "\n",
    "![title](img/frodo_middleearth.jpg) \n",
    "</center>"
   ]
  },
  {
   "cell_type": "markdown",
   "metadata": {
    "slideshow": {
     "slide_type": "skip"
    }
   },
   "source": [
    "Middle Earth Map Source: https://www.reddit.com/r/lotr/comments/1870r9/map_of_characters_paths_through_the_books_my/"
   ]
  },
  {
   "cell_type": "markdown",
   "metadata": {
    "slideshow": {
     "slide_type": "slide"
    }
   },
   "source": [
    "## What is GIS? (10 mins)"
   ]
  },
  {
   "cell_type": "markdown",
   "metadata": {
    "slideshow": {
     "slide_type": "fragment"
    }
   },
   "source": [
    "* A system that allows you to visualize, question, analyze, and interpret data to understand spatial relationships, patterns, and trends"
   ]
  },
  {
   "cell_type": "markdown",
   "metadata": {
    "slideshow": {
     "slide_type": "fragment"
    }
   },
   "source": [
    "* GIS is widely used in organizations of all sizes and in almost every industry"
   ]
  },
  {
   "cell_type": "markdown",
   "metadata": {
    "slideshow": {
     "slide_type": "fragment"
    }
   },
   "source": [
    "* A mix of data, science, analysis, and maps"
   ]
  },
  {
   "cell_type": "markdown",
   "metadata": {
    "slideshow": {
     "slide_type": "subslide"
    }
   },
   "source": [
    "## We use GIS to Answer _Where_ Questions"
   ]
  },
  {
   "cell_type": "markdown",
   "metadata": {
    "slideshow": {
     "slide_type": "fragment"
    }
   },
   "source": [
    "* Where is the Mystic Theater and how do I get there?"
   ]
  },
  {
   "cell_type": "markdown",
   "metadata": {
    "slideshow": {
     "slide_type": "fragment"
    }
   },
   "source": [
    "* Where should we build a store/wind turbine/solar panel?"
   ]
  },
  {
   "cell_type": "markdown",
   "metadata": {
    "slideshow": {
     "slide_type": "fragment"
    }
   },
   "source": [
    "* Where will the hurricane hit and what cities will be impacted?"
   ]
  },
  {
   "cell_type": "markdown",
   "metadata": {
    "slideshow": {
     "slide_type": "fragment"
    }
   },
   "source": [
    "* Where is the highest concentration of arsenic in our port?"
   ]
  },
  {
   "cell_type": "markdown",
   "metadata": {
    "slideshow": {
     "slide_type": "fragment"
    }
   },
   "source": [
    "* Where should we place advertisements so that people see them who are most likely to buy our product?"
   ]
  },
  {
   "cell_type": "markdown",
   "metadata": {
    "slideshow": {
     "slide_type": "slide"
    }
   },
   "source": [
    "# Spatial Data - A Few Things to Know"
   ]
  },
  {
   "cell_type": "markdown",
   "metadata": {
    "slideshow": {
     "slide_type": "subslide"
    }
   },
   "source": [
    "<center>\n",
    "\n",
    "![title](img/spatial_data.png) \n",
    "</center>"
   ]
  },
  {
   "cell_type": "markdown",
   "metadata": {
    "slideshow": {
     "slide_type": "subslide"
    }
   },
   "source": [
    "<center>\n",
    "\n",
    "![title](img/projection.png) \n",
    "</center>"
   ]
  },
  {
   "cell_type": "markdown",
   "metadata": {
    "slideshow": {
     "slide_type": "subslide"
    }
   },
   "source": [
    "## Depending on what projection you choose, you will get distortion in:\n",
    "\n",
    "* Area\n",
    "* Angles\n",
    "* Shape\n",
    "* Distance\n",
    "* Direction\n"
   ]
  },
  {
   "cell_type": "markdown",
   "metadata": {
    "slideshow": {
     "slide_type": "subslide"
    }
   },
   "source": [
    "<center>\n",
    "\n",
    "![title](img/projections.png) \n",
    "</center>"
   ]
  },
  {
   "cell_type": "markdown",
   "metadata": {
    "slideshow": {
     "slide_type": "subslide"
    }
   },
   "source": [
    "<h2><center>Mercator Projection</h2></center>\n",
    "\n",
    "<center>\n",
    "\n",
    "![title](img/mp_Mercator-s60.png) \n",
    "</center>"
   ]
  },
  {
   "cell_type": "markdown",
   "metadata": {
    "slideshow": {
     "slide_type": "subslide"
    }
   },
   "source": [
    "<h2><center>Mercator Projection</h2></center>\n",
    "\n",
    "<center>\n",
    "\n",
    "![title](img/GreatCircles.PNG) \n",
    "</center>\n",
    "\n",
    "Source: [Carto and Joel Masselink](https://jmasselink.carto.com/builder/c72f6b3f-309e-43d8-9d2e-fa0c466597f4/embed)"
   ]
  },
  {
   "cell_type": "markdown",
   "metadata": {
    "slideshow": {
     "slide_type": "subslide"
    }
   },
   "source": [
    "<center>\n",
    "\n",
    "![title](img/mercator_realsize.png) \n",
    "</center>\n",
    "\n",
    "Source: [@neilrkaye](https://twitter.com/neilrkaye/status/1050722881657864192)"
   ]
  },
  {
   "cell_type": "markdown",
   "metadata": {
    "slideshow": {
     "slide_type": "subslide"
    }
   },
   "source": [
    "<h2><center>Robinson Projection</h2></center>\n",
    "\n",
    "<center>\n",
    "\n",
    "![title](img/Robinson_projection.jpg) \n",
    "</center>"
   ]
  },
  {
   "cell_type": "markdown",
   "metadata": {
    "slideshow": {
     "slide_type": "subslide"
    }
   },
   "source": [
    "<h2><center>Plate Carrée Projection</h2></center>\n",
    "\n",
    "<center>\n",
    "\n",
    "![title](img/Plate-Carree.png) \n",
    "</center>"
   ]
  },
  {
   "cell_type": "markdown",
   "metadata": {
    "slideshow": {
     "slide_type": "subslide"
    }
   },
   "source": [
    "<center>\n",
    "\n",
    "![title](img/ProjectionWizard.PNG) \n",
    "</center>"
   ]
  },
  {
   "cell_type": "markdown",
   "metadata": {
    "slideshow": {
     "slide_type": "subslide"
    }
   },
   "source": [
    "<h2><center>Coordinate Systems</h2></center>\n",
    "\n",
    "<center>\n",
    "\n",
    "![title](img/CoordSysPlane.png) \n",
    "</center>\n",
    "\n",
    "<center>\n",
    "\n",
    "![title](img/Geog_vs_Projected_CRS.png) \n",
    "</center>"
   ]
  },
  {
   "cell_type": "markdown",
   "metadata": {
    "slideshow": {
     "slide_type": "subslide"
    }
   },
   "source": [
    "<h2><center>Geographic/Unprojected Coordinate System</h2></center>\n",
    "\n",
    "<center>\n",
    "\n",
    "![title](img/latlong-150.JPG) \n",
    "</center>"
   ]
  },
  {
   "cell_type": "markdown",
   "metadata": {
    "slideshow": {
     "slide_type": "subslide"
    }
   },
   "source": [
    "<h2><center>Plate Carrée Projection</h2></center>\n",
    "\n",
    "<center>\n",
    "\n",
    "![title](img/Plate-Carree.png) \n",
    "</center>"
   ]
  },
  {
   "cell_type": "markdown",
   "metadata": {
    "slideshow": {
     "slide_type": "subslide"
    }
   },
   "source": [
    "<center>\n",
    "\n",
    "![title](img/null_island_round.png) \n",
    "</center>"
   ]
  },
  {
   "cell_type": "markdown",
   "metadata": {
    "slideshow": {
     "slide_type": "subslide"
    }
   },
   "source": [
    "<center>\n",
    "\n",
    "![title](img/null_island_flat.png) \n",
    "</center>"
   ]
  },
  {
   "cell_type": "markdown",
   "metadata": {
    "slideshow": {
     "slide_type": "subslide"
    }
   },
   "source": [
    "<center>\n",
    "\n",
    "![title](img/epsgIO.png) \n",
    "</center>"
   ]
  },
  {
   "cell_type": "markdown",
   "metadata": {
    "slideshow": {
     "slide_type": "slide"
    }
   },
   "source": [
    "# Python Mapping Libraries (10 mins)"
   ]
  },
  {
   "cell_type": "markdown",
   "metadata": {
    "slideshow": {
     "slide_type": "subslide"
    }
   },
   "source": [
    "## [Matplotlib](https://matplotlib.org/)\n",
    "\n",
    "#### A Python plotting library which produces publication quality maps and diagrams in both static and interactive formats. "
   ]
  },
  {
   "cell_type": "code",
   "execution_count": null,
   "metadata": {
    "slideshow": {
     "slide_type": "fragment"
    }
   },
   "outputs": [],
   "source": [
    "%matplotlib inline\n",
    "import matplotlib.pyplot as plt"
   ]
  },
  {
   "cell_type": "markdown",
   "metadata": {
    "slideshow": {
     "slide_type": "subslide"
    }
   },
   "source": [
    "## [Shapely](https://pypi.org/project/Shapely)\n",
    "\n",
    "#### A Python package for manipulation and analysis of planar geometric objects."
   ]
  },
  {
   "cell_type": "code",
   "execution_count": null,
   "metadata": {
    "slideshow": {
     "slide_type": "fragment"
    }
   },
   "outputs": [],
   "source": [
    "from shapely.geometry import Point"
   ]
  },
  {
   "cell_type": "markdown",
   "metadata": {
    "slideshow": {
     "slide_type": "subslide"
    }
   },
   "source": [
    "## [Pandas](https://pandas.pydata.org/)\n",
    "\n",
    "#### Provides high-performance, easy-to-use data structures and data analysis tools\n",
    "\n",
    "## [GeoPandas](http://geopandas.org/)\n",
    "\n",
    "#### Geographically-enabled Pandas"
   ]
  },
  {
   "cell_type": "code",
   "execution_count": null,
   "metadata": {
    "slideshow": {
     "slide_type": "fragment"
    }
   },
   "outputs": [],
   "source": [
    "import pandas as pd\n",
    "import geopandas as gpd\n",
    "from geopandas import GeoSeries"
   ]
  },
  {
   "cell_type": "code",
   "execution_count": null,
   "metadata": {
    "slideshow": {
     "slide_type": "subslide"
    }
   },
   "outputs": [],
   "source": [
    "# Create a GeoSeries by adding some points\n",
    "gs = GeoSeries([Point(-120, 45), Point(-121.2, 46), Point(-122.9, 47.5)])\n",
    "gs"
   ]
  },
  {
   "cell_type": "code",
   "execution_count": null,
   "metadata": {
    "slideshow": {
     "slide_type": "fragment"
    }
   },
   "outputs": [],
   "source": [
    "# Set the Coordinate Reference System\n",
    "gs.crs = {'init': 'epsg:4326'}"
   ]
  },
  {
   "cell_type": "code",
   "execution_count": null,
   "metadata": {
    "slideshow": {
     "slide_type": "subslide"
    }
   },
   "outputs": [],
   "source": [
    "# We can plot our points with the plot function, with some customizations\n",
    "gs.plot(marker='*', color='red', markersize=100, figsize=(10, 10))\n",
    "\n",
    "# We limit the bounds to our area, but this will happen by default\n",
    "plt.xlim([-123, -119.8])\n",
    "plt.ylim([44.8, 47.7]);"
   ]
  },
  {
   "cell_type": "code",
   "execution_count": null,
   "metadata": {
    "slideshow": {
     "slide_type": "subslide"
    }
   },
   "outputs": [],
   "source": [
    "world = gpd.read_file(gpd.datasets.get_path('naturalearth_lowres'))"
   ]
  },
  {
   "cell_type": "code",
   "execution_count": null,
   "metadata": {
    "slideshow": {
     "slide_type": "fragment"
    }
   },
   "outputs": [],
   "source": [
    "world.head()"
   ]
  },
  {
   "cell_type": "code",
   "execution_count": null,
   "metadata": {
    "slideshow": {
     "slide_type": "subslide"
    }
   },
   "outputs": [],
   "source": [
    "world.plot(figsize=(15,5))"
   ]
  },
  {
   "cell_type": "code",
   "execution_count": null,
   "metadata": {
    "slideshow": {
     "slide_type": "subslide"
    }
   },
   "outputs": [],
   "source": [
    "cities = gpd.read_file(gpd.datasets.get_path('naturalearth_cities'))"
   ]
  },
  {
   "cell_type": "code",
   "execution_count": null,
   "metadata": {
    "slideshow": {
     "slide_type": "fragment"
    }
   },
   "outputs": [],
   "source": [
    "world = world[(world.pop_est>0) & (world.name!=\"Antarctica\") & (world.name!=\"Fr. S. Antarctic Lands\")]"
   ]
  },
  {
   "cell_type": "code",
   "execution_count": null,
   "metadata": {
    "slideshow": {
     "slide_type": "fragment"
    }
   },
   "outputs": [],
   "source": [
    "world['gdp_per_cap'] = world.gdp_md_est / world.pop_est"
   ]
  },
  {
   "cell_type": "code",
   "execution_count": null,
   "metadata": {
    "slideshow": {
     "slide_type": "subslide"
    }
   },
   "outputs": [],
   "source": [
    "world.sort_values('gdp_per_cap', ascending = False).head()"
   ]
  },
  {
   "cell_type": "code",
   "execution_count": null,
   "metadata": {
    "slideshow": {
     "slide_type": "subslide"
    }
   },
   "outputs": [],
   "source": [
    "# We can plot the map, coloring our countries by their gdp_per_cap value, creating a choropleth map\n",
    "world.plot(column='gdp_per_cap', figsize=(15,5))"
   ]
  },
  {
   "cell_type": "code",
   "execution_count": null,
   "metadata": {
    "slideshow": {
     "slide_type": "subslide"
    }
   },
   "outputs": [],
   "source": [
    "world.plot(column='gdp_per_cap', cmap='Oranges', figsize=(15,5))"
   ]
  },
  {
   "cell_type": "code",
   "execution_count": null,
   "metadata": {
    "slideshow": {
     "slide_type": "subslide"
    }
   },
   "outputs": [],
   "source": [
    "base = world.plot(column='gdp_per_cap', cmap='BuPu', scheme='quantiles', figsize=(15,5))"
   ]
  },
  {
   "cell_type": "code",
   "execution_count": null,
   "metadata": {
    "slideshow": {
     "slide_type": "subslide"
    }
   },
   "outputs": [],
   "source": [
    "base = world.plot(column='gdp_per_cap', cmap='OrRd', scheme='quantiles', figsize=(15,5))\n",
    "cities.plot(ax=base, marker='o', color='black', markersize=5)"
   ]
  },
  {
   "cell_type": "code",
   "execution_count": null,
   "metadata": {
    "slideshow": {
     "slide_type": "subslide"
    }
   },
   "outputs": [],
   "source": [
    "fig, ax = plt.subplots(figsize=(10,8))\n",
    "y = world.sort_values('gdp_per_cap', ascending = False)['gdp_per_cap'][:5]\n",
    "x = world.sort_values('gdp_per_cap', ascending = False)['name'][:5]\n",
    "ax.bar(x,y)"
   ]
  },
  {
   "cell_type": "markdown",
   "metadata": {
    "slideshow": {
     "slide_type": "slide"
    }
   },
   "source": [
    "# Spatial Problem: In what cities will we be able to see upcoming solar eclipses?"
   ]
  },
  {
   "cell_type": "markdown",
   "metadata": {
    "slideshow": {
     "slide_type": "subslide"
    }
   },
   "source": [
    "<center>\n",
    "    \n",
    "![title](img/_alignment-lines-720.png) \n",
    "</center>"
   ]
  },
  {
   "cell_type": "markdown",
   "metadata": {
    "slideshow": {
     "slide_type": "notes"
    }
   },
   "source": [
    "An eclipse of the sun, or solar eclipse, happens when the moon moves between the sun and Earth. When this happens, the moon blocks the light of the sun from reaching Earth. There was a widely publicized solar eclipse that passed over the contiguous United States in 2017. Let's re-live the excitment by finding out where we can see solar eclipses in the future, using Python!"
   ]
  },
  {
   "cell_type": "markdown",
   "metadata": {
    "slideshow": {
     "slide_type": "subslide"
    }
   },
   "source": [
    "<center>\n",
    "    \n",
    "![title](img/Corona-2017-Aug-21-m.jpg) \n",
    "</center>"
   ]
  },
  {
   "cell_type": "code",
   "execution_count": null,
   "metadata": {
    "slideshow": {
     "slide_type": "subslide"
    }
   },
   "outputs": [],
   "source": [
    "import os\n",
    "data_pth = \"../Data/\""
   ]
  },
  {
   "cell_type": "code",
   "execution_count": null,
   "metadata": {
    "slideshow": {
     "slide_type": "fragment"
    }
   },
   "outputs": [],
   "source": [
    "eclipses = gpd.read_file(os.path.join(data_pth, \"Eclipses.shp\"))"
   ]
  },
  {
   "cell_type": "code",
   "execution_count": null,
   "metadata": {
    "slideshow": {
     "slide_type": "fragment"
    }
   },
   "outputs": [],
   "source": [
    "eclipses.head()"
   ]
  },
  {
   "cell_type": "code",
   "execution_count": null,
   "metadata": {
    "slideshow": {
     "slide_type": "fragment"
    }
   },
   "outputs": [],
   "source": [
    "eclipses.crs"
   ]
  },
  {
   "cell_type": "code",
   "execution_count": null,
   "metadata": {
    "slideshow": {
     "slide_type": "subslide"
    }
   },
   "outputs": [],
   "source": [
    "eclipses.plot(figsize=(15,5))"
   ]
  },
  {
   "cell_type": "code",
   "execution_count": null,
   "metadata": {
    "slideshow": {
     "slide_type": "subslide"
    }
   },
   "outputs": [],
   "source": [
    "eclipses.envelope.plot(figsize=(15,5))"
   ]
  },
  {
   "cell_type": "code",
   "execution_count": null,
   "metadata": {
    "slideshow": {
     "slide_type": "subslide"
    }
   },
   "outputs": [],
   "source": [
    "world = gpd.read_file(gpd.datasets.get_path('naturalearth_lowres'))\n",
    "base = world.plot(color='lightgrey', linewidth=0.5, edgecolor='white', figsize=(15,5))\n",
    "eclipses.plot(ax=base)\n",
    "base.set_axis_off()"
   ]
  },
  {
   "cell_type": "code",
   "execution_count": null,
   "metadata": {
    "slideshow": {
     "slide_type": "subslide"
    }
   },
   "outputs": [],
   "source": [
    "# Let's load in the cities provided by geopandas. Note these are just the capitals.\n",
    "cities = gpd.read_file(gpd.datasets.get_path('naturalearth_cities'))"
   ]
  },
  {
   "cell_type": "code",
   "execution_count": null,
   "metadata": {
    "slideshow": {
     "slide_type": "subslide"
    }
   },
   "outputs": [],
   "source": [
    "# Now we'll plot our basemap, our eclipse paths, and our cities\n",
    "base = world.plot(color='lightgrey', linewidth=0.5, edgecolor='white', figsize=(15,5))\n",
    "eclipses.plot(ax=base)\n",
    "cities.plot(marker='*', color='yellow', markersize=5, ax=base)\n",
    "base.axis('off')"
   ]
  },
  {
   "cell_type": "code",
   "execution_count": null,
   "metadata": {
    "slideshow": {
     "slide_type": "subslide"
    }
   },
   "outputs": [],
   "source": [
    "cities = gpd.read_file(os.path.join(data_pth, \"ne_10m_populated_places.shp\"))"
   ]
  },
  {
   "cell_type": "code",
   "execution_count": null,
   "metadata": {
    "slideshow": {
     "slide_type": "fragment"
    }
   },
   "outputs": [],
   "source": [
    "cities.head()"
   ]
  },
  {
   "cell_type": "code",
   "execution_count": null,
   "metadata": {
    "slideshow": {
     "slide_type": "fragment"
    }
   },
   "outputs": [],
   "source": [
    "# Check the crs of our new cities data\n",
    "cities.crs"
   ]
  },
  {
   "cell_type": "code",
   "execution_count": null,
   "metadata": {
    "slideshow": {
     "slide_type": "fragment"
    }
   },
   "outputs": [],
   "source": [
    "# Is the cities data still in the same crs as the eclipse data? Let's check.\n",
    "eclipses.crs == cities.crs"
   ]
  },
  {
   "cell_type": "code",
   "execution_count": null,
   "metadata": {
    "slideshow": {
     "slide_type": "subslide"
    }
   },
   "outputs": [],
   "source": [
    "# Great. Let's plot it all again\n",
    "base = world.plot(color='lightgrey', linewidth=0.5, edgecolor='white', figsize=(15,5))\n",
    "cities.plot(marker='*', color='yellow', markersize=5, ax=base)\n",
    "eclipses.plot(ax=base)\n",
    "base.axis('off')"
   ]
  },
  {
   "cell_type": "code",
   "execution_count": null,
   "metadata": {
    "slideshow": {
     "slide_type": "subslide"
    }
   },
   "outputs": [],
   "source": [
    "# Let's change our eclipse colors and transparency\n",
    "base = world.plot(color='lightgrey', linewidth=0.5, edgecolor='white', figsize=(15,5))\n",
    "cities.plot(marker='*', color='yellow', markersize=5, ax=base)\n",
    "eclipses.plot(ax=base, cmap='tab10', alpha=0.5)\n",
    "base.axis('off')"
   ]
  },
  {
   "cell_type": "code",
   "execution_count": null,
   "metadata": {
    "slideshow": {
     "slide_type": "fragment"
    }
   },
   "outputs": [],
   "source": [
    "# We can examine the years that we have data for\n",
    "eclipses['Year']"
   ]
  },
  {
   "cell_type": "code",
   "execution_count": null,
   "metadata": {
    "slideshow": {
     "slide_type": "subslide"
    }
   },
   "outputs": [],
   "source": [
    "# But how do we know which is which?\n",
    "base = world.plot(color='lightgrey', linewidth=0.5, edgecolor='white', figsize=(15,5))\n",
    "\n",
    "# We can add a catetorical value and set the column to Year. We can also add a legend.\n",
    "eclipses.plot(ax=base, cmap='tab10', alpha=0.5, categorical = True, column = \"Year\", legend=True)\n",
    "base.axis('off')"
   ]
  },
  {
   "cell_type": "code",
   "execution_count": null,
   "metadata": {
    "slideshow": {
     "slide_type": "subslide"
    }
   },
   "outputs": [],
   "source": [
    "# Let's get that legend out of the way.\n",
    "base.get_legend().set_bbox_to_anchor((.05,.7))\n",
    "base.get_figure()"
   ]
  },
  {
   "cell_type": "markdown",
   "metadata": {
    "slideshow": {
     "slide_type": "subslide"
    }
   },
   "source": [
    "## Which eclipses will cover the largest population?"
   ]
  },
  {
   "cell_type": "markdown",
   "metadata": {
    "slideshow": {
     "slide_type": "subslide"
    }
   },
   "source": [
    "### Instead of coloring the eclipses by year, we want to color based on the number of people that ought to be able to see them"
   ]
  },
  {
   "cell_type": "code",
   "execution_count": null,
   "metadata": {
    "slideshow": {
     "slide_type": "subslide"
    }
   },
   "outputs": [],
   "source": [
    "# Start by getting all the cities that intersect any eclipse\n",
    "allecities = gpd.sjoin(cities, eclipses, how='inner', op='intersects')\n",
    "allecities.head(3)"
   ]
  },
  {
   "cell_type": "code",
   "execution_count": null,
   "metadata": {
    "slideshow": {
     "slide_type": "fragment"
    }
   },
   "outputs": [],
   "source": [
    "allecities = pd.DataFrame(allecities[['POP_MAX', 'Year']])"
   ]
  },
  {
   "cell_type": "code",
   "execution_count": null,
   "metadata": {
    "slideshow": {
     "slide_type": "fragment"
    }
   },
   "outputs": [],
   "source": [
    "allecities.head()"
   ]
  },
  {
   "cell_type": "code",
   "execution_count": null,
   "metadata": {
    "slideshow": {
     "slide_type": "subslide"
    }
   },
   "outputs": [],
   "source": [
    "# Create a temporary variable to hold our years and populations\n",
    "g = allecities.groupby(['Year'])[[\"POP_MAX\"]].sum()"
   ]
  },
  {
   "cell_type": "code",
   "execution_count": null,
   "metadata": {
    "slideshow": {
     "slide_type": "fragment"
    }
   },
   "outputs": [],
   "source": [
    "g"
   ]
  },
  {
   "cell_type": "code",
   "execution_count": null,
   "metadata": {
    "slideshow": {
     "slide_type": "subslide"
    }
   },
   "outputs": [],
   "source": [
    "eclipses_pop = pd.merge(eclipses, g, left_on='Year', right_index=True)"
   ]
  },
  {
   "cell_type": "code",
   "execution_count": null,
   "metadata": {
    "slideshow": {
     "slide_type": "fragment"
    }
   },
   "outputs": [],
   "source": [
    "eclipses_pop.head(5)"
   ]
  },
  {
   "cell_type": "code",
   "execution_count": null,
   "metadata": {
    "slideshow": {
     "slide_type": "subslide"
    }
   },
   "outputs": [],
   "source": [
    "base = world.plot(color='lightgrey', linewidth=0.5, edgecolor='white', figsize=(15,5))\n",
    "eclipses_pop.plot(ax=base, cmap='Oranges', \n",
    "                  alpha=0.5, column = \"POP_MAX\", legend=True)\n",
    "base.axis('off')"
   ]
  },
  {
   "cell_type": "code",
   "execution_count": null,
   "metadata": {
    "slideshow": {
     "slide_type": "fragment"
    }
   },
   "outputs": [],
   "source": [
    "g.sort_values('POP_MAX', ascending = False)"
   ]
  },
  {
   "cell_type": "markdown",
   "metadata": {
    "slideshow": {
     "slide_type": "subslide"
    }
   },
   "source": [
    "## Let's take a look at that eclipse in 2024"
   ]
  },
  {
   "cell_type": "code",
   "execution_count": null,
   "metadata": {
    "slideshow": {
     "slide_type": "subslide"
    }
   },
   "outputs": [],
   "source": [
    "# Let's look at our options again\n",
    "eclipses['Year']"
   ]
  },
  {
   "cell_type": "code",
   "execution_count": null,
   "metadata": {
    "slideshow": {
     "slide_type": "subslide"
    }
   },
   "outputs": [],
   "source": [
    "# And plot again\n",
    "base = world.plot(color='lightgrey', linewidth=0.5, edgecolor='white', figsize=(15,5))\n",
    "eclipses.plot(ax=base, cmap='tab10', categorical=True, alpha=0.5, column = \"Year\", legend=True)\n",
    "base.axis('off')\n",
    "base.get_legend().set_bbox_to_anchor((.05,.7))"
   ]
  },
  {
   "cell_type": "code",
   "execution_count": null,
   "metadata": {
    "slideshow": {
     "slide_type": "subslide"
    }
   },
   "outputs": [],
   "source": [
    "# Let's assign the 2024 eclipse to its own variable\n",
    "myeclipse = eclipses[(eclipses['Year'] == 2024)]"
   ]
  },
  {
   "cell_type": "code",
   "execution_count": null,
   "metadata": {
    "slideshow": {
     "slide_type": "fragment"
    }
   },
   "outputs": [],
   "source": [
    "# Let's plot it \n",
    "base = world.plot(color='lightgrey', linewidth=0.5, edgecolor='white', figsize=(15,5))\n",
    "cities.plot(marker='*', color='yellow', markersize=5, ax=base)\n",
    "myeclipse.plot(ax=base)\n",
    "base.axis('off')"
   ]
  },
  {
   "cell_type": "code",
   "execution_count": null,
   "metadata": {
    "slideshow": {
     "slide_type": "subslide"
    }
   },
   "outputs": [],
   "source": [
    "# Plot again, but this time I want to zoom in on my chosen eclipse path\n",
    "base = world.plot(color='lightgrey', linewidth=0.5, edgecolor='white', figsize=(15,5))\n",
    "myeclipse.plot(ax=base)\n",
    "cities.plot(marker='*', color='yellow', markersize=5, ax=base)\n",
    "bounds = myeclipse.geometry.bounds\n",
    "plt.xlim([bounds.minx.min()-5, bounds.maxx.max()+5])\n",
    "plt.ylim([bounds.miny.min()-5, bounds.maxy.max()+5])"
   ]
  },
  {
   "cell_type": "code",
   "execution_count": null,
   "metadata": {
    "slideshow": {
     "slide_type": "subslide"
    }
   },
   "outputs": [],
   "source": [
    "# Let's style the plot so that the eclipse looks eclipse-ier\n",
    "base = world.plot(color='lightgray', linewidth=0.5, edgecolor='white', figsize=(15,5))\n",
    "myeclipse.plot(ax=base, color='black', edgecolor='yellow', alpha=0.75)\n",
    "cities.plot(marker='o', color='white', markersize=2, ax=base)\n",
    "bounds = myeclipse.geometry.bounds\n",
    "plt.xlim([bounds.minx.min()-5, bounds.maxx.max()+5])\n",
    "plt.ylim([bounds.miny.min()-5, bounds.maxy.max()+5])"
   ]
  },
  {
   "cell_type": "code",
   "execution_count": null,
   "metadata": {
    "slideshow": {
     "slide_type": "subslide"
    }
   },
   "outputs": [],
   "source": [
    "# Check that the crs are the same for myeclipse and cities\n",
    "print('Data is in the same crs?', myeclipse.crs == cities.crs, ':', myeclipse.crs)"
   ]
  },
  {
   "cell_type": "code",
   "execution_count": null,
   "metadata": {
    "slideshow": {
     "slide_type": "fragment"
    }
   },
   "outputs": [],
   "source": [
    "# We can see that there are a few cities that intersect my path! But we want to know which ones.\n",
    "# Do a spatial join to get the intersection\n",
    "ecities = gpd.sjoin(cities, myeclipse, how='inner', op='intersects')\n",
    "ecities.head()"
   ]
  },
  {
   "cell_type": "code",
   "execution_count": null,
   "metadata": {
    "slideshow": {
     "slide_type": "subslide"
    }
   },
   "outputs": [],
   "source": [
    "# Let's plot the results!\n",
    "base = world.plot(color='lightgray', linewidth=0.5, edgecolor='white', figsize=(15,5))\n",
    "myeclipse.plot(ax=base, color='black', edgecolor='yellow', alpha=0.75)\n",
    "ecities.plot(marker='o', color='white', markersize=2, ax=base)\n",
    "bounds = myeclipse.geometry.bounds\n",
    "plt.xlim([bounds.minx.min()-5, bounds.maxx.max()+5])\n",
    "plt.ylim([bounds.miny.min()-5, bounds.maxy.max()+5])"
   ]
  },
  {
   "cell_type": "code",
   "execution_count": null,
   "metadata": {
    "slideshow": {
     "slide_type": "subslide"
    }
   },
   "outputs": [],
   "source": [
    "print('Wow! There are {} cities in the eclipse path!'.format(len(ecities)))\n",
    "print(\"Here are the top 5:\")\n",
    "print(ecities['NAME'].head())"
   ]
  },
  {
   "cell_type": "markdown",
   "metadata": {
    "slideshow": {
     "slide_type": "subslide"
    }
   },
   "source": [
    "# Make it Slippy"
   ]
  },
  {
   "cell_type": "code",
   "execution_count": null,
   "metadata": {
    "slideshow": {
     "slide_type": "subslide"
    }
   },
   "outputs": [],
   "source": [
    "import folium\n",
    "Petaluma = [38.23, -122.64]\n",
    "\n",
    "osm_map = folium.Map(location=Petaluma, zoom_start=10)\n",
    "osm_map"
   ]
  },
  {
   "cell_type": "code",
   "execution_count": null,
   "metadata": {
    "slideshow": {
     "slide_type": "subslide"
    }
   },
   "outputs": [],
   "source": [
    "map_carto = folium.Map(\n",
    "    location=Petaluma,\n",
    "    tiles='Cartodb Positron',\n",
    "    zoom_start=10\n",
    ")\n",
    "map_carto"
   ]
  },
  {
   "cell_type": "code",
   "execution_count": null,
   "metadata": {
    "slideshow": {
     "slide_type": "subslide"
    }
   },
   "outputs": [],
   "source": [
    "map_stamen_toner = folium.Map(\n",
    "    location=Petaluma,\n",
    "    tiles='stamentoner',\n",
    "    zoom_start=10\n",
    ")\n",
    "map_stamen_toner"
   ]
  },
  {
   "cell_type": "code",
   "execution_count": null,
   "metadata": {
    "slideshow": {
     "slide_type": "subslide"
    }
   },
   "outputs": [],
   "source": [
    "map_stamen_water = folium.Map(\n",
    "    location=Petaluma,\n",
    "    tiles='stamenwatercolor',\n",
    "    zoom_start=10\n",
    ")\n",
    "map_stamen_water"
   ]
  },
  {
   "cell_type": "code",
   "execution_count": null,
   "metadata": {
    "slideshow": {
     "slide_type": "subslide"
    }
   },
   "outputs": [],
   "source": [
    "# Let's find the centroid of the eclipse we chose, so that we can center our folum map on it\n",
    "x = myeclipse.centroid.x.values[0]\n",
    "y = myeclipse.centroid.y.values[0]\n",
    "print('y: ' + str(y) + ', x: ' + str(x))"
   ]
  },
  {
   "cell_type": "code",
   "execution_count": null,
   "metadata": {
    "slideshow": {
     "slide_type": "subslide"
    }
   },
   "outputs": [],
   "source": [
    "map_stamen_water = folium.Map(\n",
    "    location=[y,x],\n",
    "    tiles='stamenwatercolor',\n",
    "    zoom_start=3\n",
    ")\n",
    "\n",
    "folium.GeoJson(ecities,name='Eclipse Cities').add_to(map_stamen_water)\n",
    "folium.GeoJson(myeclipse,name='Eclipse Path').add_to(map_stamen_water)\n",
    "\n",
    "folium.LayerControl().add_to(map_stamen_water)"
   ]
  },
  {
   "cell_type": "code",
   "execution_count": null,
   "metadata": {
    "slideshow": {
     "slide_type": "subslide"
    }
   },
   "outputs": [],
   "source": [
    "map_stamen_water"
   ]
  },
  {
   "cell_type": "code",
   "execution_count": null,
   "metadata": {
    "slideshow": {
     "slide_type": "subslide"
    }
   },
   "outputs": [],
   "source": [
    "# You can write a function that creates a map with all of your properties\n",
    "# This one creates popups for your cities\n",
    "\n",
    "def plot_city_pop(ecities, myeclipse):\n",
    "    # generate a new map\n",
    "    folium_map = folium.Map(location=[y, x], zoom_start=3, tiles=\"stamenwatercolor\")\n",
    "    folium.GeoJson(myeclipse,name='Eclipse Path').add_to(folium_map)\n",
    "    # for each row in the data, add a cicle marker\n",
    "    for index, row in ecities.iterrows():\n",
    "        \n",
    "        # generate the popup message that is shown on click.\n",
    "        popup_text = \"Name: {}<br> Pop: {}\"\n",
    "        popup_text = popup_text.format(row[\"NAME\"], row[\"POP_MAX\"])\n",
    "        \n",
    "        folium.CircleMarker(location=(row['geometry'].y, row['geometry'].x),radius=5,popup=popup_text,fill=True).add_to(folium_map)        \n",
    "\n",
    "    # Add a layer control if you like\n",
    "    folium.LayerControl().add_to(folium_map)\n",
    "    \n",
    "    return folium_map"
   ]
  },
  {
   "cell_type": "code",
   "execution_count": null,
   "metadata": {
    "slideshow": {
     "slide_type": "subslide"
    }
   },
   "outputs": [],
   "source": [
    "# Call the function to create the map\n",
    "plot_city_pop(ecities, myeclipse)"
   ]
  },
  {
   "cell_type": "code",
   "execution_count": null,
   "metadata": {
    "slideshow": {
     "slide_type": "subslide"
    }
   },
   "outputs": [],
   "source": [
    "# Saving your results as a Esri Shapefile is easy with GeoPandas\n",
    "# myeclipse.to_file('../Data/myeclipse.shp', driver='ESRI Shapefile')\n",
    "# ecities.to_file('../Data/ecities.shp', driver='ESRI Shapefile')"
   ]
  },
  {
   "cell_type": "markdown",
   "metadata": {
    "slideshow": {
     "slide_type": "slide"
    }
   },
   "source": [
    "## Maps that Mislead and Conclusions (2 mins)"
   ]
  },
  {
   "cell_type": "markdown",
   "metadata": {
    "slideshow": {
     "slide_type": "slide"
    }
   },
   "source": [
    "<h1><center>Happy Mapping!</h1></center>"
   ]
  },
  {
   "cell_type": "code",
   "execution_count": null,
   "metadata": {
    "scrolled": true,
    "slideshow": {
     "slide_type": "fragment"
    }
   },
   "outputs": [],
   "source": [
    "plot_city_pop(ecities, myeclipse)"
   ]
  }
 ],
 "metadata": {
  "celltoolbar": "Slideshow",
  "kernelspec": {
   "display_name": "Python 3",
   "language": "python",
   "name": "python3"
  },
  "language_info": {
   "codemirror_mode": {
    "name": "ipython",
    "version": 3
   },
   "file_extension": ".py",
   "mimetype": "text/x-python",
   "name": "python",
   "nbconvert_exporter": "python",
   "pygments_lexer": "ipython3",
   "version": "3.7.0"
  }
 },
 "nbformat": 4,
 "nbformat_minor": 2
}
